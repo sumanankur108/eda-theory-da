{
  "nbformat": 4,
  "nbformat_minor": 0,
  "metadata": {
    "colab": {
      "private_outputs": true,
      "provenance": [],
      "authorship_tag": "ABX9TyNCAl/kVezRGcuBhfTv0/pw",
      "include_colab_link": true
    },
    "kernelspec": {
      "name": "python3",
      "display_name": "Python 3"
    },
    "language_info": {
      "name": "python"
    }
  },
  "cells": [
    {
      "cell_type": "markdown",
      "metadata": {
        "id": "view-in-github",
        "colab_type": "text"
      },
      "source": [
        "<a href=\"https://colab.research.google.com/github/sumanankur108/eda-theory-da/blob/main/module_2_21bds0097.ipynb\" target=\"_parent\"><img src=\"https://colab.research.google.com/assets/colab-badge.svg\" alt=\"Open In Colab\"/></a>"
      ]
    },
    {
      "cell_type": "code",
      "execution_count": null,
      "metadata": {
        "id": "t0-TUUztt-yQ"
      },
      "outputs": [],
      "source": [
        "!ls"
      ]
    },
    {
      "cell_type": "code",
      "source": [
        "import pandas as pd\n",
        "\n",
        "# Load the dataset\n",
        "df = pd.read_csv(\"liver_data.csv\")\n",
        "\n",
        "# Display basic information\n",
        "print(df.info())\n",
        "\n",
        "# Display the first few rows\n",
        "print(df.head())"
      ],
      "metadata": {
        "id": "w36B4TbnvCqM"
      },
      "execution_count": null,
      "outputs": []
    },
    {
      "cell_type": "code",
      "source": [
        "# Ensure column names are stripped of leading/trailing spaces\n",
        "df.columns = df.columns.str.strip()\n",
        "\n",
        "# Select only numerical columns for mean imputation\n",
        "numerical_cols = df.select_dtypes(include=['number']).columns\n",
        "df[numerical_cols] = df[numerical_cols].fillna(df[numerical_cols].mean())\n",
        "\n",
        "# Drop rows with missing categorical values\n",
        "df.dropna(subset=['Gender of the patient'], inplace=True)\n",
        "\n",
        "# Display updated dataset information\n",
        "print(df.info())"
      ],
      "metadata": {
        "id": "M9XrwOJRvH3O"
      },
      "execution_count": null,
      "outputs": []
    },
    {
      "cell_type": "code",
      "source": [
        "# Clean column names (remove leading/trailing spaces)\n",
        "df.columns = df.columns.str.strip()\n",
        "\n",
        "# Rename specific columns if needed\n",
        "df.rename(columns={'Alkphos Alkaline Phosphotase': 'Alkaline_Phosphatase',\n",
        "                   'Sgpt Alamine Aminotransferase': 'SGPT',\n",
        "                   'Sgot Aspartate Aminotransferase': 'SGOT',\n",
        "                   'Total Protiens': 'Total_Proteins',\n",
        "                   'ALB Albumin': 'Albumin',\n",
        "                   'A/G Ratio Albumin and Globulin Ratio': 'A_G_Ratio'},\n",
        "          inplace=True)\n",
        "\n",
        "# Display updated column names\n",
        "print(df.columns)"
      ],
      "metadata": {
        "id": "ZojQ_IeRwU7U"
      },
      "execution_count": null,
      "outputs": []
    },
    {
      "cell_type": "code",
      "source": [
        "import matplotlib.pyplot as plt\n",
        "import seaborn as sns\n",
        "\n",
        "# Plot histogram of Total Bilirubin\n",
        "plt.figure(figsize=(8, 5))\n",
        "sns.histplot(df['Total Bilirubin'], bins=30, kde=True)\n",
        "plt.title('Distribution of Total Bilirubin')\n",
        "plt.show()\n",
        "\n",
        "# Convert categorical column ('Gender of the patient') into numeric values (Male = 1, Female = 0)\n",
        "df['Gender of the patient'] = df['Gender of the patient'].map({'Male': 1, 'Female': 0})\n",
        "\n",
        "# Drop any remaining non-numeric columns (if any)\n",
        "df_numeric = df.select_dtypes(include=['number'])\n",
        "\n",
        "# Correlation heatmap\n",
        "plt.figure(figsize=(10, 6))\n",
        "sns.heatmap(df_numeric.corr(), annot=True, cmap='coolwarm', fmt=\".2f\")\n",
        "plt.title(\"Feature Correlation Heatmap\")\n",
        "plt.show()\n"
      ],
      "metadata": {
        "id": "jOYdl4F-wach"
      },
      "execution_count": null,
      "outputs": []
    },
    {
      "cell_type": "code",
      "source": [
        "# Convert Gender column to numerical (Male=1, Female=0)\n",
        "df['Gender of the patient'] = df['Gender of the patient'].map({'Male': 1, 'Female': 0})\n",
        "\n",
        "# Check unique values after conversion\n",
        "print(df['Gender of the patient'].unique())\n"
      ],
      "metadata": {
        "id": "RIKWXZJOwdLB"
      },
      "execution_count": null,
      "outputs": []
    },
    {
      "cell_type": "code",
      "source": [
        "from sklearn.model_selection import train_test_split\n",
        "\n",
        "# Define features (X) and target (y)\n",
        "X = df.drop(columns=['Result'])  # Exclude target column\n",
        "y = df['Result']  # Target variable\n",
        "\n",
        "# Split the dataset (80% train, 20% test)\n",
        "X_train, X_test, y_train, y_test = train_test_split(X, y, test_size=0.2, random_state=42)\n",
        "\n",
        "print(f\"Training set: {X_train.shape}, Testing set: {X_test.shape}\")\n"
      ],
      "metadata": {
        "id": "1MVVG_8DxJ5C"
      },
      "execution_count": null,
      "outputs": []
    },
    {
      "cell_type": "code",
      "source": [
        "import pandas as pd\n",
        "import numpy as np\n",
        "\n",
        "# Load dataset\n",
        "df = pd.read_csv(\"liver_data.csv\")\n",
        "\n",
        "# Ensure column names are stripped of leading/trailing spaces\n",
        "df.columns = df.columns.str.strip()\n",
        "\n",
        "# Convert categorical column ('Gender of the patient') to numeric\n",
        "df['Gender of the patient'] = df['Gender of the patient'].map({'Male': 1, 'Female': 0})\n",
        "\n",
        "# Select only numerical columns\n",
        "numerical_cols = df.select_dtypes(include=['number']).columns\n",
        "\n",
        "# Compute IQR\n",
        "Q1 = df[numerical_cols].quantile(0.25)\n",
        "Q3 = df[numerical_cols].quantile(0.75)\n",
        "IQR = Q3 - Q1\n",
        "\n",
        "# Define outlier bounds\n",
        "lower_bound = Q1 - 1.5 * IQR\n",
        "upper_bound = Q3 + 1.5 * IQR\n",
        "\n",
        "# Filter out outliers\n",
        "df_filtered = df[~((df[numerical_cols] < lower_bound) | (df[numerical_cols] > upper_bound)).any(axis=1)]\n",
        "\n",
        "# Display dataset shape before and after removing outliers\n",
        "print(f\"Original dataset size: {df.shape}\")\n",
        "print(f\"Filtered dataset size: {df_filtered.shape}\")\n"
      ],
      "metadata": {
        "id": "jdnsgQDdxMlK"
      },
      "execution_count": null,
      "outputs": []
    },
    {
      "cell_type": "code",
      "source": [
        "from scipy.stats import zscore\n",
        "\n",
        "# Compute Z-scores for numerical columns\n",
        "z_scores = df[numerical_cols].apply(zscore)\n",
        "\n",
        "# Define threshold for outliers (commonly 3)\n",
        "threshold = 3\n",
        "\n",
        "# Filter dataset by removing outliers\n",
        "df_filtered_z = df[(z_scores < threshold).all(axis=1)]\n",
        "\n",
        "# Display dataset shape before and after removing outliers\n",
        "print(f\"Original dataset size: {df.shape}\")\n",
        "print(f\"Filtered dataset size: {df_filtered_z.shape}\")\n"
      ],
      "metadata": {
        "id": "m3Ntnh9RyLdr"
      },
      "execution_count": null,
      "outputs": []
    },
    {
      "cell_type": "code",
      "source": [
        "import matplotlib.pyplot as plt\n",
        "import seaborn as sns\n",
        "\n",
        "# Plot boxplots for numerical columns\n",
        "plt.figure(figsize=(12, 8))\n",
        "df[numerical_cols].boxplot(rot=45)\n",
        "plt.title(\"Boxplot for Outlier Detection\")\n",
        "plt.show()"
      ],
      "metadata": {
        "id": "4etagFh1yUg0"
      },
      "execution_count": null,
      "outputs": []
    },
    {
      "cell_type": "code",
      "source": [
        "from scipy.stats.mstats import winsorize\n",
        "\n",
        "# Apply Winsorization (Cap at 5th and 95th percentile)\n",
        "df_winsorized = df.copy()\n",
        "for col in numerical_cols:\n",
        "    df_winsorized[col] = winsorize(df[col], limits=[0.05, 0.05])  # Limits: 5% lower & upper\n",
        "\n",
        "print(df_winsorized.describe())"
      ],
      "metadata": {
        "id": "5kxQxG1XyWfW"
      },
      "execution_count": null,
      "outputs": []
    },
    {
      "cell_type": "code",
      "source": [
        "import pandas as pd\n",
        "\n",
        "# Load dataset\n",
        "df = pd.read_csv(\"liver_data.csv\")\n",
        "\n",
        "# Ensure column names are stripped of leading/trailing spaces\n",
        "df.columns = df.columns.str.strip()\n",
        "\n",
        "# Create a derived feature (Bilirubin Ratio = Total Bilirubin × Direct Bilirubin)\n",
        "df['Bilirubin Ratio'] = df['Total Bilirubin'] * df['Direct Bilirubin']\n",
        "\n",
        "# Display the dataset with the new column\n",
        "df.head()"
      ],
      "metadata": {
        "id": "awDGtLolyZeD"
      },
      "execution_count": null,
      "outputs": []
    },
    {
      "cell_type": "code",
      "source": [
        "import numpy as np\n",
        "\n",
        "# Define threshold for high Bilirubin Ratio\n",
        "threshold = 10\n",
        "\n",
        "# Identify outlier cases\n",
        "outliers = df[df['Bilirubin Ratio'] > threshold]\n",
        "\n",
        "# Display the rows with extreme values\n",
        "outliers\n"
      ],
      "metadata": {
        "id": "iAJNDrtKy77s"
      },
      "execution_count": null,
      "outputs": []
    },
    {
      "cell_type": "code",
      "source": [
        "# Show records where Bilirubin Ratio > 15\n",
        "df[df['Bilirubin Ratio'] > 15]"
      ],
      "metadata": {
        "id": "J3N4m3zwzjE1"
      },
      "execution_count": null,
      "outputs": []
    },
    {
      "cell_type": "code",
      "source": [
        "# Create a new feature: Liver Enzyme Ratio (SGOT / SGPT)\n",
        "df['Liver Enzyme Ratio'] = df['Sgot Aspartate Aminotransferase'] / df['Sgpt Alamine Aminotransferase']\n",
        "\n",
        "# Display the dataset with the new column\n",
        "df.head()"
      ],
      "metadata": {
        "id": "9hbov0EwzkxW"
      },
      "execution_count": null,
      "outputs": []
    },
    {
      "cell_type": "code",
      "source": [
        "# Identify cases with high Liver Enzyme Ratio (>2.0)\n",
        "high_enzyme_cases = df[df['Liver Enzyme Ratio'] > 2.0]\n",
        "\n",
        "# Display the high-risk cases\n",
        "high_enzyme_cases"
      ],
      "metadata": {
        "id": "hD0AVOlwzmLz"
      },
      "execution_count": null,
      "outputs": []
    },
    {
      "cell_type": "code",
      "source": [
        "df[df['Liver Enzyme Ratio'] > 3.0]"
      ],
      "metadata": {
        "id": "SQ0S8mCLzpjp"
      },
      "execution_count": null,
      "outputs": []
    },
    {
      "cell_type": "code",
      "source": [
        "import pandas as pd\n",
        "\n",
        "# Load dataset\n",
        "df = pd.read_csv(\"liver_data.csv\")\n",
        "\n",
        "# Ensure column names are stripped of leading/trailing spaces\n",
        "df.columns = df.columns.str.strip()\n",
        "\n",
        "# Define age bins and labels\n",
        "age_bins = [0, 30, 40, 50, 60, 70, 100]  # Define bins\n",
        "age_labels = ['Below 30', '30-40', '40-50', '50-60', '60-70', 'Above 70']  # Define category labels\n",
        "\n",
        "# Apply binning\n",
        "df['Age Group'] = pd.cut(df['Age of the patient'], bins=age_bins, labels=age_labels)\n",
        "\n",
        "# Display the dataset with new binning column\n",
        "df[['Age of the patient', 'Age Group']].head()"
      ],
      "metadata": {
        "id": "4UCTxKGizxJr"
      },
      "execution_count": null,
      "outputs": []
    },
    {
      "cell_type": "code",
      "source": [
        "# Define Bilirubin bins and labels\n",
        "bilirubin_bins = [0, 0.5, 1.2, 3.0, 10.0, 50.0]  # Define ranges\n",
        "bilirubin_labels = ['Normal', 'Mild', 'Moderate', 'High', 'Critical']  # Define labels\n",
        "\n",
        "# Apply binning\n",
        "df['Bilirubin Level'] = pd.cut(df['Total Bilirubin'], bins=bilirubin_bins, labels=bilirubin_labels)\n",
        "\n",
        "# Display dataset with new binning column\n",
        "df[['Total Bilirubin', 'Bilirubin Level']].head()\n"
      ],
      "metadata": {
        "id": "9yyWNy_00HmM"
      },
      "execution_count": null,
      "outputs": []
    },
    {
      "cell_type": "code",
      "source": [],
      "metadata": {
        "id": "qfSVInIw1KwE"
      },
      "execution_count": null,
      "outputs": []
    }
  ]
}